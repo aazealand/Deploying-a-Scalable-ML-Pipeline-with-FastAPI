{
 "cells": [
  {
   "cell_type": "code",
   "execution_count": 9,
   "id": "8da3bc18",
   "metadata": {},
   "outputs": [
    {
     "name": "stdout",
     "output_type": "stream",
     "text": [
      "Python version: 3.11.7\n"
     ]
    }
   ],
   "source": [
    "\n",
    "import pandas as pd\n",
    "import matplotlib.pyplot as plt\n",
    "import numpy as np\n",
    "import sys\n",
    "\n",
    "print(f\"Python version: {sys.version.split()[0]}\")\n",
    "\n",
    "# magic word for producing visualizations in notebook\n",
    "%matplotlib inline"
   ]
  },
  {
   "cell_type": "code",
   "execution_count": 10,
   "id": "770b49fe",
   "metadata": {},
   "outputs": [],
   "source": [
    "# load csv\n",
    "df = pd.read_csv('data/slice_output.csv')"
   ]
  },
  {
   "cell_type": "code",
   "execution_count": 11,
   "id": "3f702f48",
   "metadata": {},
   "outputs": [
    {
     "data": {
      "application/vnd.microsoft.datawrangler.viewer.v0+json": {
       "columns": [
        {
         "name": "index",
         "rawType": "int64",
         "type": "integer"
        },
        {
         "name": "feature",
         "rawType": "object",
         "type": "string"
        },
        {
         "name": "slice_value",
         "rawType": "object",
         "type": "string"
        },
        {
         "name": "count",
         "rawType": "int64",
         "type": "integer"
        },
        {
         "name": "precision",
         "rawType": "float64",
         "type": "float"
        },
        {
         "name": "recall",
         "rawType": "float64",
         "type": "float"
        },
        {
         "name": "f1",
         "rawType": "float64",
         "type": "float"
        }
       ],
       "ref": "d69d82b9-74fc-47e1-ada3-a3bedb693a14",
       "rows": [
        [
         "17",
         "education",
         "Bachelors",
         "1053",
         "0.8098159509202454",
         "0.2933333333333333",
         "0.430668841761827"
        ],
        [
         "19",
         "education",
         "HS-grad",
         "2085",
         "0.6115702479338843",
         "0.2144927536231884",
         "0.3175965665236051"
        ],
        [
         "20",
         "education",
         "Masters",
         "369",
         "0.8611111111111112",
         "0.2995169082125604",
         "0.4444444444444444"
        ],
        [
         "23",
         "education",
         "Some-college",
         "1485",
         "0.625",
         "0.2346570397111913",
         "0.3412073490813648"
        ]
       ],
       "shape": {
        "columns": 6,
        "rows": 4
       }
      },
      "text/html": [
       "<div>\n",
       "<style scoped>\n",
       "    .dataframe tbody tr th:only-of-type {\n",
       "        vertical-align: middle;\n",
       "    }\n",
       "\n",
       "    .dataframe tbody tr th {\n",
       "        vertical-align: top;\n",
       "    }\n",
       "\n",
       "    .dataframe thead th {\n",
       "        text-align: right;\n",
       "    }\n",
       "</style>\n",
       "<table border=\"1\" class=\"dataframe\">\n",
       "  <thead>\n",
       "    <tr style=\"text-align: right;\">\n",
       "      <th></th>\n",
       "      <th>feature</th>\n",
       "      <th>slice_value</th>\n",
       "      <th>count</th>\n",
       "      <th>precision</th>\n",
       "      <th>recall</th>\n",
       "      <th>f1</th>\n",
       "    </tr>\n",
       "  </thead>\n",
       "  <tbody>\n",
       "    <tr>\n",
       "      <th>17</th>\n",
       "      <td>education</td>\n",
       "      <td>Bachelors</td>\n",
       "      <td>1053</td>\n",
       "      <td>0.809816</td>\n",
       "      <td>0.293333</td>\n",
       "      <td>0.430669</td>\n",
       "    </tr>\n",
       "    <tr>\n",
       "      <th>19</th>\n",
       "      <td>education</td>\n",
       "      <td>HS-grad</td>\n",
       "      <td>2085</td>\n",
       "      <td>0.611570</td>\n",
       "      <td>0.214493</td>\n",
       "      <td>0.317597</td>\n",
       "    </tr>\n",
       "    <tr>\n",
       "      <th>20</th>\n",
       "      <td>education</td>\n",
       "      <td>Masters</td>\n",
       "      <td>369</td>\n",
       "      <td>0.861111</td>\n",
       "      <td>0.299517</td>\n",
       "      <td>0.444444</td>\n",
       "    </tr>\n",
       "    <tr>\n",
       "      <th>23</th>\n",
       "      <td>education</td>\n",
       "      <td>Some-college</td>\n",
       "      <td>1485</td>\n",
       "      <td>0.625000</td>\n",
       "      <td>0.234657</td>\n",
       "      <td>0.341207</td>\n",
       "    </tr>\n",
       "  </tbody>\n",
       "</table>\n",
       "</div>"
      ],
      "text/plain": [
       "      feature   slice_value  count  precision    recall        f1\n",
       "17  education     Bachelors   1053   0.809816  0.293333  0.430669\n",
       "19  education       HS-grad   2085   0.611570  0.214493  0.317597\n",
       "20  education       Masters    369   0.861111  0.299517  0.444444\n",
       "23  education  Some-college   1485   0.625000  0.234657  0.341207"
      ]
     },
     "execution_count": 11,
     "metadata": {},
     "output_type": "execute_result"
    }
   ],
   "source": [
    "# filtering for:\n",
    "# feature = education &\n",
    "# count > 300\n",
    "df_edu = df[(df['feature'] == 'education') & (df['count'] > 300)].copy()\n",
    "\n",
    "df_edu"
   ]
  },
  {
   "cell_type": "code",
   "execution_count": 15,
   "id": "a489529e",
   "metadata": {},
   "outputs": [
    {
     "data": {
      "text/plain": [
       "4"
      ]
     },
     "execution_count": 15,
     "metadata": {},
     "output_type": "execute_result"
    }
   ],
   "source": [
    "df_edu['slice_value'].count()"
   ]
  },
  {
   "cell_type": "code",
   "execution_count": 50,
   "id": "991d2de4",
   "metadata": {},
   "outputs": [
    {
     "data": {
      "image/png": "[encoded data removed]",
      "text/plain": [
       "<Figure size 640x480 with 1 Axes>"
      ]
     },
     "metadata": {},
     "output_type": "display_data"
    }
   ],
   "source": [
    "x = np.arange(df_edu['slice_value'].count())  # the label locations\n",
    "width = 0.25  # the width of the bars\n",
    "multiplier = 0\n",
    "\n",
    "fig, ax = plt.subplots(layout='constrained')\n",
    "\n",
    "for metric, metrics in df_edu[['precision', 'recall', 'f1']].items():\n",
    "    offset = width * multiplier\n",
    "    rects = ax.bar(x + offset, metrics, width, label=metric)\n",
    "    ax.bar_label(rects, padding=3, fmt='{:.2f}')\n",
    "    multiplier += 1\n",
    "\n",
    "# Add some text for labels, title and custom x-axis tick labels, etc.\n",
    "plt.suptitle('Prediction Metrics for Education Slices', fontsize=18)\n",
    "plt.title('(Slices limited to those with 300 or more samples)', fontsize=10)\n",
    "ax.set_ylabel('Score')\n",
    "ax.set_xlabel('Education Level')\n",
    "ax.set_xticks(x + width, df_edu['slice_value'])\n",
    "ax.legend()\n",
    "ax.set_ylim(0, 1)\n",
    "\n",
    "plt.show()"
   ]
  },
  {
   "cell_type": "code",
   "execution_count": 52,
   "id": "4c50bfbf",
   "metadata": {},
   "outputs": [
    {
     "name": "stdout",
     "output_type": "stream",
     "text": [
      "17       Bachelors\n",
      "19         HS-grad\n",
      "20         Masters\n",
      "23    Some-college\n",
      "Name: slice_value, dtype: object\n"
     ]
    }
   ],
   "source": [
    "print(df_edu['slice_value'])"
   ]
  },
  {
   "cell_type": "markdown",
   "id": "d47ed9b1",
   "metadata": {},
   "source": [
    "17       Bachelors\n",
    "19         HS-grad\n",
    "Masters\n",
    "Some-college"
   ]
  }
 ],
 "metadata": {
  "kernelspec": {
   "display_name": "base",
   "language": "python",
   "name": "python3"
  },
  "language_info": {
   "codemirror_mode": {
    "name": "ipython",
    "version": 3
   },
   "file_extension": ".py",
   "mimetype": "text/x-python",
   "name": "python",
   "nbconvert_exporter": "python",
   "pygments_lexer": "ipython3",
   "version": "3.11.7"
  }
 },
 "nbformat": 4,
 "nbformat_minor": 5
}
